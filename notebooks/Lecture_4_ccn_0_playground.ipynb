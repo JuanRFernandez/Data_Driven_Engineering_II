{
  "cells": [
    {
      "attachments": {},
      "cell_type": "markdown",
      "metadata": {
        "id": "u-KubBlfDWxc"
      },
      "source": [
        "# Conv2D as a pseudo-Conv1D\n",
        "\n",
        "    This notebook is just as for a playground. Cihan says that he tried to explain it with videos, we need to understand it by doing matrix operations in a paper to understand the concept and what is going on."
      ]
    },
    {
      "cell_type": "code",
      "execution_count": 65,
      "metadata": {
        "id": "VAr7klZAkQ-t"
      },
      "outputs": [],
      "source": [
        "import numpy as np\n",
        " # ML Algorithms to be used\n",
        "import tensorflow as tf\n",
        "from tensorflow import keras\n",
        "from keras import optimizers, models, layers, regularizers\n",
        "from keras import backend as K\n",
        "from keras.models import Sequential, Model\n",
        "from keras.layers import Activation, Dense, Dropout, Conv2D, MaxPooling2D, AveragePooling2D, ZeroPadding2D"
      ]
    },
    {
      "attachments": {},
      "cell_type": "markdown",
      "metadata": {
        "id": "ZiTFniugQmjn"
      },
      "source": [
        "Imagine that we have a time series data, with a shape of 10. It could be the last 10 sensor measurement. Below, we will create an array for tensorflow:\n",
        "\n",
        "[batch size, image size, # channels / features]\n",
        "\n",
        "This time, we will have a batch size of 1, time series of shape 10x1, and only one channel.\n",
        "\n",
        "Let's break down the shape `(1, 10, 1, 1)`:\n",
        "\n",
        "- `1`: The first dimension implies that there is one example or batch in your dataset. This can also be thought of as the number of instances or records you have.\n",
        "\n",
        "- `10`: The second dimension implies that there are 10 different features, or time steps, or rows in each example or instance.\n",
        "\n",
        "- `1`: The third dimension implies that there is one column in each feature or time step.\n",
        "\n",
        "- `1`: The fourth dimension, usually reserved for channels in image processing (e.g., RGB channels for color images), denotes here that there is one channel or feature for each instance.\n"
      ]
    },
    {
      "cell_type": "code",
      "execution_count": 2,
      "metadata": {
        "colab": {
          "base_uri": "https://localhost:8080/"
        },
        "id": "4QEj4SdYjtFy",
        "outputId": "836bc2b1-c7ea-4a1f-971f-12acaa261c07"
      },
      "outputs": [
        {
          "data": {
            "text/plain": [
              "(1, 10, 1, 1)"
            ]
          },
          "execution_count": 2,
          "metadata": {},
          "output_type": "execute_result"
        }
      ],
      "source": [
        "#Creating a dummy numpy array for testing kernels\n",
        "X_train = np.array([[ [[_]] for _ in range(10)]])\n",
        "X_train.shape"
      ]
    },
    {
      "cell_type": "code",
      "execution_count": 3,
      "metadata": {
        "colab": {
          "base_uri": "https://localhost:8080/"
        },
        "id": "fvCr_NUoDf4R",
        "outputId": "fb0b9c51-1e5a-4d27-c57d-f01387e70d4f"
      },
      "outputs": [
        {
          "name": "stdout",
          "output_type": "stream",
          "text": [
            "[[[[0]]\n",
            "\n",
            "  [[1]]\n",
            "\n",
            "  [[2]]\n",
            "\n",
            "  [[3]]\n",
            "\n",
            "  [[4]]\n",
            "\n",
            "  [[5]]\n",
            "\n",
            "  [[6]]\n",
            "\n",
            "  [[7]]\n",
            "\n",
            "  [[8]]\n",
            "\n",
            "  [[9]]]]\n"
          ]
        }
      ],
      "source": [
        "print(X_train)"
      ]
    },
    {
      "cell_type": "code",
      "execution_count": 4,
      "metadata": {
        "id": "kxuLEIb9lxhr"
      },
      "outputs": [],
      "source": [
        "def build_model_CNN():\n",
        "  # input array shape for the network:\n",
        "  input_shape = X_train.shape[1],X_train.shape[2],X_train.shape[3]\n",
        "  #Here we will use Sequential API like we did in MLP\n",
        "  model = models.Sequential([\n",
        "  # Now we will introduce the layers. We will start with the convolution layer:\n",
        "  Conv2D(1,(2,1),(1,1),padding='valid',activation=\"linear\",input_shape=input_shape),\n",
        "  #Adding the pooling layer:\n",
        "  #MaxPooling2D((2,2),padding='same'),\n",
        "  ])\n",
        "  model.compile(optimizer='Adam',loss = \"binary_crossentropy\", metrics=[\"accuracy\"]) \n",
        "  return model"
      ]
    },
    {
      "attachments": {},
      "cell_type": "markdown",
      "metadata": {},
      "source": [
        "`Conv2D(1,(2,1),(1,1),padding='valid',activation=\"linear\",input_shape=input_shape),`\n",
        "\n",
        "This is a 2D convolution layer, and the parameters are as follows:\n",
        "\n",
        "- `1`: The first argument is the number of filters that the convolution layer will learn. Filters are the \"feature detectors\", for example, edge detectors, blob detectors, etc. Each filter represents a specific feature it's learned to detect.\n",
        "\n",
        "- `(2,1)`: This tuple defines the kernel size, that is, the width and height of the convolution window. In this case, the convolution window is of size 2x1.\n",
        "\n",
        "- `(1,1)`: This tuple is the strides of the convolution along the width and height. Strides mean the steps by which the convolution window moves across the input. Here, the convolution window moves 1 step at a time horizontally and vertically.\n",
        "\n",
        "- `padding='valid'`: This means there is no padding around the input or feature map, implying that the dimensions may change after the convolution operation. In contrast, 'same' padding implies that padding is used so the output feature maps have the same width and height as the input.\n",
        "\n",
        "- `activation='linear'`: This is the activation function for the layer. An activation function is used to introduce non-linearity into the network. The 'linear' activation function is essentially no activation function (f(x) = x), meaning the output equals the input.\n",
        "\n",
        "- `input_shape=input_shape`: This is the shape of the input data that the layer will receive. The `input_shape` parameter is typically only required for the first layer of the model. In your case, the input shape is the same as the shape of your training data.\n"
      ]
    },
    {
      "cell_type": "code",
      "execution_count": 5,
      "metadata": {
        "colab": {
          "base_uri": "https://localhost:8080/"
        },
        "id": "eKUfiyaBmmOP",
        "outputId": "694a0250-8baa-4167-829e-e6d45eef028a"
      },
      "outputs": [
        {
          "name": "stdout",
          "output_type": "stream",
          "text": [
            "Model: \"sequential\"\n",
            "_________________________________________________________________\n",
            " Layer (type)                Output Shape              Param #   \n",
            "=================================================================\n",
            " conv2d (Conv2D)             (None, 9, 1, 1)           3         \n",
            "                                                                 \n",
            "=================================================================\n",
            "Total params: 3\n",
            "Trainable params: 3\n",
            "Non-trainable params: 0\n",
            "_________________________________________________________________\n"
          ]
        }
      ],
      "source": [
        "cnn = build_model_CNN()\n",
        "cnn.summary()"
      ]
    },
    {
      "cell_type": "code",
      "execution_count": 6,
      "metadata": {
        "colab": {
          "base_uri": "https://localhost:8080/"
        },
        "id": "PACXcEwanlVE",
        "outputId": "b1e5534d-c3db-454a-f05f-4f8f69d6dfb8"
      },
      "outputs": [
        {
          "name": "stdout",
          "output_type": "stream",
          "text": [
            "[[[[0.3996029]]]\n",
            "\n",
            "\n",
            " [[[0.9845456]]]]\n",
            "[0.]\n"
          ]
        }
      ],
      "source": [
        "weights = cnn.get_weights()\n",
        "print(weights[0])\n",
        "print(weights[1])"
      ]
    },
    {
      "attachments": {},
      "cell_type": "markdown",
      "metadata": {
        "id": "go5WDhF9BeZM"
      },
      "source": [
        "## Define kernel"
      ]
    },
    {
      "cell_type": "code",
      "execution_count": 7,
      "metadata": {
        "id": "K4tnzELT5mJO"
      },
      "outputs": [],
      "source": [
        "filter_1 = -0.1\n",
        "filter_2 = 1"
      ]
    },
    {
      "cell_type": "code",
      "execution_count": 8,
      "metadata": {
        "colab": {
          "base_uri": "https://localhost:8080/"
        },
        "id": "D1ZwFIVPqcP0",
        "outputId": "6953db13-4366-47ac-d947-52d1da4d51f6"
      },
      "outputs": [
        {
          "data": {
            "text/plain": [
              "array([[[[-0.1]]],\n",
              "\n",
              "\n",
              "       [[[ 1. ]]]])"
            ]
          },
          "execution_count": 8,
          "metadata": {},
          "output_type": "execute_result"
        }
      ],
      "source": [
        "custom_kernel_1 = np.array([[[[filter_1]]],[[[filter_2]]]])\n",
        "custom_kernel_1"
      ]
    },
    {
      "cell_type": "code",
      "execution_count": 9,
      "metadata": {
        "colab": {
          "base_uri": "https://localhost:8080/"
        },
        "id": "obifmhFEtJvX",
        "outputId": "a0e7c142-9aa8-42ef-e684-a47c6d3824b8"
      },
      "outputs": [
        {
          "data": {
            "text/plain": [
              "array([0])"
            ]
          },
          "execution_count": 9,
          "metadata": {},
          "output_type": "execute_result"
        }
      ],
      "source": [
        "bias_1 = np.array([0])\n",
        "bias_1"
      ]
    },
    {
      "attachments": {},
      "cell_type": "markdown",
      "metadata": {
        "id": "h8vvfzQ3tePp"
      },
      "source": [
        "# Filling up kernel for debugging purposes"
      ]
    },
    {
      "cell_type": "code",
      "execution_count": 10,
      "metadata": {
        "colab": {
          "base_uri": "https://localhost:8080/"
        },
        "id": "wuMemFCFtDL2",
        "outputId": "327b9727-ca9a-4aee-deec-581e4b74529d"
      },
      "outputs": [
        {
          "name": "stdout",
          "output_type": "stream",
          "text": [
            "Model: \"sequential_1\"\n",
            "_________________________________________________________________\n",
            " Layer (type)                Output Shape              Param #   \n",
            "=================================================================\n",
            " conv2d_1 (Conv2D)           (None, 9, 1, 1)           3         \n",
            "                                                                 \n",
            "=================================================================\n",
            "Total params: 3\n",
            "Trainable params: 3\n",
            "Non-trainable params: 0\n",
            "_________________________________________________________________\n"
          ]
        }
      ],
      "source": [
        "# Creating custom weight cnn:\n",
        "custom_cnn_1 = build_model_CNN()\n",
        "custom_cnn_1.summary()"
      ]
    },
    {
      "cell_type": "code",
      "execution_count": 11,
      "metadata": {
        "colab": {
          "base_uri": "https://localhost:8080/"
        },
        "id": "T-qk6FQNtlTl",
        "outputId": "49d049fe-e98d-4a3a-d058-8b4c6f22dee9"
      },
      "outputs": [
        {
          "name": "stdout",
          "output_type": "stream",
          "text": [
            "[[[[-0.1]]]\n",
            "\n",
            "\n",
            " [[[ 1. ]]]]\n",
            "[0.]\n"
          ]
        }
      ],
      "source": [
        "custom_cnn_1.set_weights([custom_kernel_1,bias_1])\n",
        "weights = custom_cnn_1.get_weights()\n",
        "print(weights[0])\n",
        "print(weights[1])"
      ]
    },
    {
      "attachments": {},
      "cell_type": "markdown",
      "metadata": {
        "id": "DLlCVLZduEgj"
      },
      "source": [
        "# Conv. operation"
      ]
    },
    {
      "cell_type": "code",
      "execution_count": 12,
      "metadata": {
        "colab": {
          "base_uri": "https://localhost:8080/"
        },
        "id": "-Xk7LvOxvC4K",
        "outputId": "5941b535-8925-4b9a-f659-46881588ef75"
      },
      "outputs": [
        {
          "data": {
            "text/plain": [
              "array([[[[0]],\n",
              "\n",
              "        [[1]],\n",
              "\n",
              "        [[2]],\n",
              "\n",
              "        [[3]],\n",
              "\n",
              "        [[4]],\n",
              "\n",
              "        [[5]],\n",
              "\n",
              "        [[6]],\n",
              "\n",
              "        [[7]],\n",
              "\n",
              "        [[8]],\n",
              "\n",
              "        [[9]]]])"
            ]
          },
          "execution_count": 12,
          "metadata": {},
          "output_type": "execute_result"
        }
      ],
      "source": [
        "X_train"
      ]
    },
    {
      "cell_type": "code",
      "execution_count": 13,
      "metadata": {
        "colab": {
          "base_uri": "https://localhost:8080/"
        },
        "id": "pOCOgWC5uKTx",
        "outputId": "ab638713-deb8-40e7-b928-9fa357b28541"
      },
      "outputs": [
        {
          "name": "stdout",
          "output_type": "stream",
          "text": [
            "1/1 [==============================] - 11s 11s/step\n"
          ]
        },
        {
          "data": {
            "text/plain": [
              "array([[[[1. ]],\n",
              "\n",
              "        [[1.9]],\n",
              "\n",
              "        [[2.8]],\n",
              "\n",
              "        [[3.7]],\n",
              "\n",
              "        [[4.6]],\n",
              "\n",
              "        [[5.5]],\n",
              "\n",
              "        [[6.4]],\n",
              "\n",
              "        [[7.3]],\n",
              "\n",
              "        [[8.2]]]], dtype=float32)"
            ]
          },
          "execution_count": 13,
          "metadata": {},
          "output_type": "execute_result"
        }
      ],
      "source": [
        "y_calculated_1 = custom_cnn_1.predict(X_train)\n",
        "y_calculated_1"
      ]
    },
    {
      "attachments": {},
      "cell_type": "markdown",
      "metadata": {
        "id": "2CHlsZC0_A83"
      },
      "source": [
        "# Flipping kernel dimensions"
      ]
    },
    {
      "attachments": {},
      "cell_type": "markdown",
      "metadata": {
        "id": "aF_PR_VHH70u"
      },
      "source": [
        "Flipped kernel do not work and raise an error, as the dimensions do not match. But if you use padding, it seems to use that dimension as input:"
      ]
    },
    {
      "cell_type": "code",
      "execution_count": 14,
      "metadata": {
        "id": "MZ56TVN6HO_J"
      },
      "outputs": [],
      "source": [
        "def build_model_CNN_2():\n",
        "  # input array shape for the network:\n",
        "  input_shape = X_train.shape[1],X_train.shape[2],X_train.shape[3]\n",
        "  #Here we will use Sequential API like we did in MLP\n",
        "  model = models.Sequential([\n",
        "  # Now we will introduce the layers. We will start with the convolution layer:\n",
        "  Conv2D(1,(1,2),(1,1),padding='valid',activation=\"linear\",input_shape=input_shape),\n",
        "  #Adding the pooling layer:\n",
        "  #MaxPooling2D((2,2),padding='same'),\n",
        "  ])  \n",
        "  model.compile(optimizer='Adam',loss = \"binary_crossentropy\", metrics=[\"accuracy\"]) \n",
        "  return model"
      ]
    },
    {
      "cell_type": "code",
      "execution_count": 15,
      "metadata": {
        "colab": {
          "base_uri": "https://localhost:8080/",
          "height": 468
        },
        "id": "hNz-_XS-HY2o",
        "outputId": "c848f61c-a714-4f9e-acdf-11d5b6a4ea7b"
      },
      "outputs": [
        {
          "ename": "ValueError",
          "evalue": "Exception encountered when calling layer \"conv2d_2\" (type Conv2D).\n\nNegative dimension size caused by subtracting 2 from 1 for '{{node conv2d_2/Conv2D}} = Conv2D[T=DT_FLOAT, data_format=\"NHWC\", dilations=[1, 1, 1, 1], explicit_paddings=[], padding=\"VALID\", strides=[1, 1, 1, 1], use_cudnn_on_gpu=true](Placeholder, conv2d_2/Conv2D/ReadVariableOp)' with input shapes: [?,10,1,1], [1,2,1,1].\n\nCall arguments received by layer \"conv2d_2\" (type Conv2D):\n  • inputs=tf.Tensor(shape=(None, 10, 1, 1), dtype=float32)",
          "output_type": "error",
          "traceback": [
            "\u001b[1;31m---------------------------------------------------------------------------\u001b[0m",
            "\u001b[1;31mValueError\u001b[0m                                Traceback (most recent call last)",
            "Cell \u001b[1;32mIn[15], line 1\u001b[0m\n\u001b[1;32m----> 1\u001b[0m cnn_2 \u001b[39m=\u001b[39m build_model_CNN_2()\n\u001b[0;32m      2\u001b[0m cnn_2\u001b[39m.\u001b[39msummary()\n",
            "Cell \u001b[1;32mIn[14], line 5\u001b[0m, in \u001b[0;36mbuild_model_CNN_2\u001b[1;34m()\u001b[0m\n\u001b[0;32m      3\u001b[0m input_shape \u001b[39m=\u001b[39m X_train\u001b[39m.\u001b[39mshape[\u001b[39m1\u001b[39m],X_train\u001b[39m.\u001b[39mshape[\u001b[39m2\u001b[39m],X_train\u001b[39m.\u001b[39mshape[\u001b[39m3\u001b[39m]\n\u001b[0;32m      4\u001b[0m \u001b[39m#Here we will use Sequential API like we did in MLP\u001b[39;00m\n\u001b[1;32m----> 5\u001b[0m model \u001b[39m=\u001b[39m models\u001b[39m.\u001b[39;49mSequential([\n\u001b[0;32m      6\u001b[0m \u001b[39m# Now we will introduce the layers. We will start with the convolution layer:\u001b[39;49;00m\n\u001b[0;32m      7\u001b[0m Conv2D(\u001b[39m1\u001b[39;49m,(\u001b[39m1\u001b[39;49m,\u001b[39m2\u001b[39;49m),(\u001b[39m1\u001b[39;49m,\u001b[39m1\u001b[39;49m),padding\u001b[39m=\u001b[39;49m\u001b[39m'\u001b[39;49m\u001b[39mvalid\u001b[39;49m\u001b[39m'\u001b[39;49m,activation\u001b[39m=\u001b[39;49m\u001b[39m\"\u001b[39;49m\u001b[39mlinear\u001b[39;49m\u001b[39m\"\u001b[39;49m,input_shape\u001b[39m=\u001b[39;49minput_shape),\n\u001b[0;32m      8\u001b[0m \u001b[39m#Adding the pooling layer:\u001b[39;49;00m\n\u001b[0;32m      9\u001b[0m \u001b[39m#MaxPooling2D((2,2),padding='same'),\u001b[39;49;00m\n\u001b[0;32m     10\u001b[0m ])  \n\u001b[0;32m     11\u001b[0m model\u001b[39m.\u001b[39mcompile(optimizer\u001b[39m=\u001b[39m\u001b[39m'\u001b[39m\u001b[39mAdam\u001b[39m\u001b[39m'\u001b[39m,loss \u001b[39m=\u001b[39m \u001b[39m\"\u001b[39m\u001b[39mbinary_crossentropy\u001b[39m\u001b[39m\"\u001b[39m, metrics\u001b[39m=\u001b[39m[\u001b[39m\"\u001b[39m\u001b[39maccuracy\u001b[39m\u001b[39m\"\u001b[39m]) \n\u001b[0;32m     12\u001b[0m \u001b[39mreturn\u001b[39;00m model\n",
            "File \u001b[1;32mc:\\Users\\rofer\\anaconda3\\envs\\Thesis\\lib\\site-packages\\tensorflow\\python\\trackable\\base.py:205\u001b[0m, in \u001b[0;36mno_automatic_dependency_tracking.<locals>._method_wrapper\u001b[1;34m(self, *args, **kwargs)\u001b[0m\n\u001b[0;32m    203\u001b[0m \u001b[39mself\u001b[39m\u001b[39m.\u001b[39m_self_setattr_tracking \u001b[39m=\u001b[39m \u001b[39mFalse\u001b[39;00m  \u001b[39m# pylint: disable=protected-access\u001b[39;00m\n\u001b[0;32m    204\u001b[0m \u001b[39mtry\u001b[39;00m:\n\u001b[1;32m--> 205\u001b[0m   result \u001b[39m=\u001b[39m method(\u001b[39mself\u001b[39m, \u001b[39m*\u001b[39margs, \u001b[39m*\u001b[39m\u001b[39m*\u001b[39mkwargs)\n\u001b[0;32m    206\u001b[0m \u001b[39mfinally\u001b[39;00m:\n\u001b[0;32m    207\u001b[0m   \u001b[39mself\u001b[39m\u001b[39m.\u001b[39m_self_setattr_tracking \u001b[39m=\u001b[39m previous_value  \u001b[39m# pylint: disable=protected-access\u001b[39;00m\n",
            "File \u001b[1;32mc:\\Users\\rofer\\anaconda3\\envs\\Thesis\\lib\\site-packages\\keras\\utils\\traceback_utils.py:70\u001b[0m, in \u001b[0;36mfilter_traceback.<locals>.error_handler\u001b[1;34m(*args, **kwargs)\u001b[0m\n\u001b[0;32m     67\u001b[0m     filtered_tb \u001b[39m=\u001b[39m _process_traceback_frames(e\u001b[39m.\u001b[39m__traceback__)\n\u001b[0;32m     68\u001b[0m     \u001b[39m# To get the full stack trace, call:\u001b[39;00m\n\u001b[0;32m     69\u001b[0m     \u001b[39m# `tf.debugging.disable_traceback_filtering()`\u001b[39;00m\n\u001b[1;32m---> 70\u001b[0m     \u001b[39mraise\u001b[39;00m e\u001b[39m.\u001b[39mwith_traceback(filtered_tb) \u001b[39mfrom\u001b[39;00m \u001b[39mNone\u001b[39m\n\u001b[0;32m     71\u001b[0m \u001b[39mfinally\u001b[39;00m:\n\u001b[0;32m     72\u001b[0m     \u001b[39mdel\u001b[39;00m filtered_tb\n",
            "File \u001b[1;32mc:\\Users\\rofer\\anaconda3\\envs\\Thesis\\lib\\site-packages\\tensorflow\\python\\framework\\ops.py:1969\u001b[0m, in \u001b[0;36m_create_c_op\u001b[1;34m(graph, node_def, inputs, control_inputs, op_def, extract_traceback)\u001b[0m\n\u001b[0;32m   1966\u001b[0m   c_op \u001b[39m=\u001b[39m pywrap_tf_session\u001b[39m.\u001b[39mTF_FinishOperation(op_desc)\n\u001b[0;32m   1967\u001b[0m \u001b[39mexcept\u001b[39;00m errors\u001b[39m.\u001b[39mInvalidArgumentError \u001b[39mas\u001b[39;00m e:\n\u001b[0;32m   1968\u001b[0m   \u001b[39m# Convert to ValueError for backwards compatibility.\u001b[39;00m\n\u001b[1;32m-> 1969\u001b[0m   \u001b[39mraise\u001b[39;00m \u001b[39mValueError\u001b[39;00m(e\u001b[39m.\u001b[39mmessage)\n\u001b[0;32m   1971\u001b[0m \u001b[39m# Record the current Python stack trace as the creating stacktrace of this\u001b[39;00m\n\u001b[0;32m   1972\u001b[0m \u001b[39m# TF_Operation.\u001b[39;00m\n\u001b[0;32m   1973\u001b[0m \u001b[39mif\u001b[39;00m extract_traceback:\n",
            "\u001b[1;31mValueError\u001b[0m: Exception encountered when calling layer \"conv2d_2\" (type Conv2D).\n\nNegative dimension size caused by subtracting 2 from 1 for '{{node conv2d_2/Conv2D}} = Conv2D[T=DT_FLOAT, data_format=\"NHWC\", dilations=[1, 1, 1, 1], explicit_paddings=[], padding=\"VALID\", strides=[1, 1, 1, 1], use_cudnn_on_gpu=true](Placeholder, conv2d_2/Conv2D/ReadVariableOp)' with input shapes: [?,10,1,1], [1,2,1,1].\n\nCall arguments received by layer \"conv2d_2\" (type Conv2D):\n  • inputs=tf.Tensor(shape=(None, 10, 1, 1), dtype=float32)"
          ]
        }
      ],
      "source": [
        "cnn_2 = build_model_CNN_2()\n",
        "cnn_2.summary()"
      ]
    },
    {
      "attachments": {},
      "cell_type": "markdown",
      "metadata": {
        "id": "C7vCuvh6IYF_"
      },
      "source": [
        "Adding padding just to show:"
      ]
    },
    {
      "cell_type": "code",
      "execution_count": 16,
      "metadata": {
        "id": "HF5nOjVE0P-V"
      },
      "outputs": [],
      "source": [
        "def build_model_CNN_2():\n",
        "  # input array shape for the network:\n",
        "  input_shape = X_train.shape[1],X_train.shape[2],X_train.shape[3]\n",
        "  #Here we will use Sequential API like we did in MLP\n",
        "  model = models.Sequential([\n",
        "  # Now we will introduce the layers. We will start with the convolution layer:\n",
        "  Conv2D(1,(1,2),(1,1),padding='same',activation=\"linear\",input_shape=input_shape),\n",
        "  #Adding the pooling layer:\n",
        "  #MaxPooling2D((2,2),padding='same'),\n",
        "  ])  \n",
        "  model.compile(optimizer='Adam',loss = \"binary_crossentropy\", metrics=[\"accuracy\"]) \n",
        "  return model"
      ]
    },
    {
      "cell_type": "code",
      "execution_count": 17,
      "metadata": {
        "colab": {
          "base_uri": "https://localhost:8080/"
        },
        "id": "MIZFD8xI0P-Y",
        "outputId": "b25fdc8c-41da-4dd7-a9f0-f645c664a498"
      },
      "outputs": [
        {
          "name": "stdout",
          "output_type": "stream",
          "text": [
            "Model: \"sequential_3\"\n",
            "_________________________________________________________________\n",
            " Layer (type)                Output Shape              Param #   \n",
            "=================================================================\n",
            " conv2d_3 (Conv2D)           (None, 10, 1, 1)          3         \n",
            "                                                                 \n",
            "=================================================================\n",
            "Total params: 3\n",
            "Trainable params: 3\n",
            "Non-trainable params: 0\n",
            "_________________________________________________________________\n"
          ]
        }
      ],
      "source": [
        "cnn_2 = build_model_CNN_2()\n",
        "cnn_2.summary()"
      ]
    },
    {
      "cell_type": "code",
      "execution_count": 18,
      "metadata": {
        "colab": {
          "base_uri": "https://localhost:8080/"
        },
        "id": "4kicNDwp0P-a",
        "outputId": "1d094008-be18-4e1c-aaa9-c169607c2d01"
      },
      "outputs": [
        {
          "name": "stdout",
          "output_type": "stream",
          "text": [
            "[[[[0.77284503]]\n",
            "\n",
            "  [[0.41656208]]]]\n",
            "[0.]\n"
          ]
        }
      ],
      "source": [
        "weights = cnn_2.get_weights()\n",
        "print(weights[0])\n",
        "print(weights[1])"
      ]
    },
    {
      "cell_type": "code",
      "execution_count": 19,
      "metadata": {
        "colab": {
          "base_uri": "https://localhost:8080/"
        },
        "id": "XF70N9Gr0ufX",
        "outputId": "536a0d24-4025-4ef8-ba80-157af4f48c60"
      },
      "outputs": [
        {
          "data": {
            "text/plain": [
              "array([[[[-0.1]],\n",
              "\n",
              "        [[ 1. ]]]])"
            ]
          },
          "execution_count": 19,
          "metadata": {},
          "output_type": "execute_result"
        }
      ],
      "source": [
        "custom_kernel_2 = np.array([[[[filter_1]],[[filter_2]]]])\n",
        "custom_kernel_2"
      ]
    },
    {
      "cell_type": "code",
      "execution_count": 20,
      "metadata": {
        "id": "nj0TcOEH0ufb"
      },
      "outputs": [],
      "source": [
        "bias_2 = np.array([0])"
      ]
    },
    {
      "cell_type": "code",
      "execution_count": 21,
      "metadata": {
        "colab": {
          "base_uri": "https://localhost:8080/"
        },
        "id": "6T38SCi81kXZ",
        "outputId": "dd4a093c-a024-428c-b8bf-1910e186562e"
      },
      "outputs": [
        {
          "name": "stdout",
          "output_type": "stream",
          "text": [
            "Model: \"sequential_4\"\n",
            "_________________________________________________________________\n",
            " Layer (type)                Output Shape              Param #   \n",
            "=================================================================\n",
            " conv2d_4 (Conv2D)           (None, 10, 1, 1)          3         \n",
            "                                                                 \n",
            "=================================================================\n",
            "Total params: 3\n",
            "Trainable params: 3\n",
            "Non-trainable params: 0\n",
            "_________________________________________________________________\n"
          ]
        }
      ],
      "source": [
        "# Creating custom weight cnn:\n",
        "custom_cnn_2 = build_model_CNN_2()\n",
        "custom_cnn_2.summary()"
      ]
    },
    {
      "cell_type": "code",
      "execution_count": 22,
      "metadata": {
        "colab": {
          "base_uri": "https://localhost:8080/"
        },
        "id": "icYGpS390nTg",
        "outputId": "21dabaa1-bb34-4f1f-b62f-57fe9dca84a8"
      },
      "outputs": [
        {
          "name": "stdout",
          "output_type": "stream",
          "text": [
            "[[[[-0.1]]\n",
            "\n",
            "  [[ 1. ]]]]\n",
            "[0.]\n"
          ]
        }
      ],
      "source": [
        "custom_cnn_2.set_weights([custom_kernel_2,bias_2])\n",
        "weights = custom_cnn_2.get_weights()\n",
        "print(weights[0])\n",
        "print(weights[1])"
      ]
    },
    {
      "attachments": {},
      "cell_type": "markdown",
      "metadata": {
        "id": "WauJWsqgTZ6G"
      },
      "source": [
        "So, if you are using 2D conv. layers for 1D data, make sure that it is prepared correctly."
      ]
    },
    {
      "attachments": {},
      "cell_type": "markdown",
      "metadata": {
        "id": "oayhr749-Ozu"
      },
      "source": [
        "# Fixing it: proper 1D kernels"
      ]
    },
    {
      "cell_type": "code",
      "execution_count": 23,
      "metadata": {
        "id": "AwntlCYm-WBa"
      },
      "outputs": [],
      "source": [
        "def build_model_CNN_2():\n",
        "  # input array shape for the network:\n",
        "  input_shape = X_train.shape[1],X_train.shape[2],X_train.shape[3]\n",
        "  #Here we will use Sequential API like we did in MLP\n",
        "  model = models.Sequential([\n",
        "  # Now we will introduce the layers. We will start with the convolution layer:\n",
        "  Conv2D(1,(2,1),(1,1),padding='valid',activation=\"linear\",input_shape=input_shape),\n",
        "  #Adding the pooling layer:\n",
        "  #MaxPooling2D((2,2),padding='same'),\n",
        "  ])  \n",
        "  model.compile(optimizer='Adam',loss = \"binary_crossentropy\", metrics=[\"accuracy\"]) \n",
        "  return model"
      ]
    },
    {
      "cell_type": "code",
      "execution_count": 24,
      "metadata": {
        "colab": {
          "base_uri": "https://localhost:8080/"
        },
        "id": "GIVNQmt3-WBc",
        "outputId": "7712c35f-bc10-4ba3-c9e7-51ec25ebc86b"
      },
      "outputs": [
        {
          "name": "stdout",
          "output_type": "stream",
          "text": [
            "Model: \"sequential_5\"\n",
            "_________________________________________________________________\n",
            " Layer (type)                Output Shape              Param #   \n",
            "=================================================================\n",
            " conv2d_5 (Conv2D)           (None, 9, 1, 1)           3         \n",
            "                                                                 \n",
            "=================================================================\n",
            "Total params: 3\n",
            "Trainable params: 3\n",
            "Non-trainable params: 0\n",
            "_________________________________________________________________\n"
          ]
        }
      ],
      "source": [
        "cnn_2 = build_model_CNN_2()\n",
        "cnn_2.summary()"
      ]
    },
    {
      "cell_type": "code",
      "execution_count": 25,
      "metadata": {
        "colab": {
          "base_uri": "https://localhost:8080/"
        },
        "id": "ufFpDYz5-SaK",
        "outputId": "87f7035f-bed3-494a-deb0-918d7d1871d5"
      },
      "outputs": [
        {
          "name": "stdout",
          "output_type": "stream",
          "text": [
            "[[[[-0.9016404 ]]]\n",
            "\n",
            "\n",
            " [[[-0.82011986]]]]\n",
            "[0.]\n"
          ]
        }
      ],
      "source": [
        "weights = cnn_2.get_weights()\n",
        "print(weights[0])\n",
        "print(weights[1])"
      ]
    },
    {
      "cell_type": "code",
      "execution_count": 26,
      "metadata": {
        "colab": {
          "base_uri": "https://localhost:8080/"
        },
        "id": "CNl6hdV9-SaL",
        "outputId": "3aa2585c-ad1c-4b38-b25f-ab50b30b3149"
      },
      "outputs": [
        {
          "data": {
            "text/plain": [
              "array([[[[-0.1]]],\n",
              "\n",
              "\n",
              "       [[[ 1. ]]]])"
            ]
          },
          "execution_count": 26,
          "metadata": {},
          "output_type": "execute_result"
        }
      ],
      "source": [
        "custom_kernel_2 = np.array([[[[filter_1]]],[[[filter_2]]]])\n",
        "custom_kernel_2"
      ]
    },
    {
      "cell_type": "code",
      "execution_count": 27,
      "metadata": {
        "id": "SDaD6LdK-SaM"
      },
      "outputs": [],
      "source": [
        "bias_2 = np.array([0.3])"
      ]
    },
    {
      "cell_type": "code",
      "execution_count": 28,
      "metadata": {
        "colab": {
          "base_uri": "https://localhost:8080/"
        },
        "id": "MOpSgDTP-SaM",
        "outputId": "4916efcd-66e3-4c21-e7ea-42e2199bba2a"
      },
      "outputs": [
        {
          "name": "stdout",
          "output_type": "stream",
          "text": [
            "Model: \"sequential_6\"\n",
            "_________________________________________________________________\n",
            " Layer (type)                Output Shape              Param #   \n",
            "=================================================================\n",
            " conv2d_6 (Conv2D)           (None, 9, 1, 1)           3         \n",
            "                                                                 \n",
            "=================================================================\n",
            "Total params: 3\n",
            "Trainable params: 3\n",
            "Non-trainable params: 0\n",
            "_________________________________________________________________\n"
          ]
        }
      ],
      "source": [
        "# Creating custom weight cnn:\n",
        "custom_cnn_2 = build_model_CNN_2()\n",
        "custom_cnn_2.summary()"
      ]
    },
    {
      "cell_type": "code",
      "execution_count": 29,
      "metadata": {
        "colab": {
          "base_uri": "https://localhost:8080/"
        },
        "id": "qdpLsPVD-SaN",
        "outputId": "c5a690d4-7c9f-44e1-e6a8-1e9605bc472e"
      },
      "outputs": [
        {
          "name": "stdout",
          "output_type": "stream",
          "text": [
            "[[[[-0.1]]]\n",
            "\n",
            "\n",
            " [[[ 1. ]]]]\n",
            "[0.3]\n"
          ]
        }
      ],
      "source": [
        "custom_cnn_2.set_weights([custom_kernel_2,bias_2])\n",
        "weights = custom_cnn_2.get_weights()\n",
        "print(weights[0])\n",
        "print(weights[1])"
      ]
    },
    {
      "attachments": {},
      "cell_type": "markdown",
      "metadata": {
        "id": "AkaMkvvJ0nTl"
      },
      "source": [
        "# Conv. operation"
      ]
    },
    {
      "cell_type": "code",
      "execution_count": 30,
      "metadata": {
        "colab": {
          "base_uri": "https://localhost:8080/"
        },
        "id": "C-Og-B0R0nTo",
        "outputId": "2fc9cfc7-39a3-45f6-f46a-43e8241e0709"
      },
      "outputs": [
        {
          "data": {
            "text/plain": [
              "array([[[[0]],\n",
              "\n",
              "        [[1]],\n",
              "\n",
              "        [[2]],\n",
              "\n",
              "        [[3]],\n",
              "\n",
              "        [[4]],\n",
              "\n",
              "        [[5]],\n",
              "\n",
              "        [[6]],\n",
              "\n",
              "        [[7]],\n",
              "\n",
              "        [[8]],\n",
              "\n",
              "        [[9]]]])"
            ]
          },
          "execution_count": 30,
          "metadata": {},
          "output_type": "execute_result"
        }
      ],
      "source": [
        "X_train"
      ]
    },
    {
      "cell_type": "code",
      "execution_count": 31,
      "metadata": {
        "colab": {
          "base_uri": "https://localhost:8080/"
        },
        "id": "76gz33f30nTp",
        "outputId": "3c32a2d7-af9b-491d-96d4-2295b6848389"
      },
      "outputs": [
        {
          "name": "stdout",
          "output_type": "stream",
          "text": [
            "1/1 [==============================] - 0s 77ms/step\n"
          ]
        },
        {
          "data": {
            "text/plain": [
              "array([[[[1.3      ]],\n",
              "\n",
              "        [[2.2      ]],\n",
              "\n",
              "        [[3.1      ]],\n",
              "\n",
              "        [[4.       ]],\n",
              "\n",
              "        [[4.9      ]],\n",
              "\n",
              "        [[5.8      ]],\n",
              "\n",
              "        [[6.7000003]],\n",
              "\n",
              "        [[7.6000004]],\n",
              "\n",
              "        [[8.5      ]]]], dtype=float32)"
            ]
          },
          "execution_count": 31,
          "metadata": {},
          "output_type": "execute_result"
        }
      ],
      "source": [
        "y_calculated_2 = custom_cnn_2.predict(X_train)\n",
        "y_calculated_2"
      ]
    },
    {
      "attachments": {},
      "cell_type": "markdown",
      "metadata": {
        "id": "Fu9c5K4Y5YZk"
      },
      "source": [
        "# 3 Filters with no padding"
      ]
    },
    {
      "cell_type": "code",
      "execution_count": 32,
      "metadata": {
        "id": "LsFrlwq66Pur"
      },
      "outputs": [],
      "source": [
        "def build_model_CNN_3():\n",
        "  # input array shape for the network:\n",
        "  input_shape = X_train.shape[1],X_train.shape[2],X_train.shape[3]\n",
        "  #Here we will use Sequential API like we did in MLP\n",
        "  model = models.Sequential([\n",
        "  # Now we will introduce the layers. We will start with the convolution layer:\n",
        "  Conv2D(3,(2,1),(1,1),padding='valid',activation=\"linear\",input_shape=input_shape),\n",
        "  #Adding the pooling layer:\n",
        "  #MaxPooling2D((2,2),padding='same'),\n",
        "  ])  \n",
        "  model.compile(optimizer='Adam',loss = \"binary_crossentropy\", metrics=[\"accuracy\"]) \n",
        "  return model"
      ]
    },
    {
      "cell_type": "code",
      "execution_count": 33,
      "metadata": {
        "colab": {
          "base_uri": "https://localhost:8080/"
        },
        "id": "VFsr6EOZ6Put",
        "outputId": "cd69fed3-b36a-4b23-f94f-cd2e015d89e4"
      },
      "outputs": [
        {
          "name": "stdout",
          "output_type": "stream",
          "text": [
            "Model: \"sequential_7\"\n",
            "_________________________________________________________________\n",
            " Layer (type)                Output Shape              Param #   \n",
            "=================================================================\n",
            " conv2d_7 (Conv2D)           (None, 9, 1, 3)           9         \n",
            "                                                                 \n",
            "=================================================================\n",
            "Total params: 9\n",
            "Trainable params: 9\n",
            "Non-trainable params: 0\n",
            "_________________________________________________________________\n"
          ]
        }
      ],
      "source": [
        "custom_cnn_3 = build_model_CNN_3()\n",
        "custom_cnn_3.summary()"
      ]
    },
    {
      "cell_type": "code",
      "execution_count": 34,
      "metadata": {
        "colab": {
          "base_uri": "https://localhost:8080/"
        },
        "id": "DewOugji6dLS",
        "outputId": "0e02114d-2c63-447b-bbb0-944800c75c3b"
      },
      "outputs": [
        {
          "name": "stdout",
          "output_type": "stream",
          "text": [
            "[[[[ 0.2561075   0.8587766  -0.24401975]]]\n",
            "\n",
            "\n",
            " [[[-0.05750662  0.84049886  0.8058812 ]]]]\n",
            "[0. 0. 0.]\n"
          ]
        }
      ],
      "source": [
        "weights = custom_cnn_3.get_weights()\n",
        "print(weights[0])\n",
        "print(weights[1])"
      ]
    },
    {
      "cell_type": "code",
      "execution_count": 35,
      "metadata": {
        "colab": {
          "base_uri": "https://localhost:8080/"
        },
        "id": "-wMEUnJD7TBt",
        "outputId": "4b903cb9-bcb5-4c2d-e823-98e2bee944f5"
      },
      "outputs": [
        {
          "data": {
            "text/plain": [
              "(2, 1, 1, 3)"
            ]
          },
          "execution_count": 35,
          "metadata": {},
          "output_type": "execute_result"
        }
      ],
      "source": [
        "#kernel shape: how kernel data is saved. we will use our own for debugging.\n",
        "weights[0].shape"
      ]
    },
    {
      "cell_type": "code",
      "execution_count": 36,
      "metadata": {
        "id": "fF8McjA565Tj"
      },
      "outputs": [],
      "source": [
        "custom_kernel_3 = np.array([[[[ -0.1, 0.1 , 0.5 ]]],\\\n",
        "                            [[[  1  , 1   , 0.5 ]]]])\n",
        "bias_3 = np.array([0,0,0])"
      ]
    },
    {
      "cell_type": "code",
      "execution_count": 37,
      "metadata": {
        "colab": {
          "base_uri": "https://localhost:8080/"
        },
        "id": "d3-UqHiu625g",
        "outputId": "c6b5be71-95f2-4d5b-8a91-159bd0850575"
      },
      "outputs": [
        {
          "name": "stdout",
          "output_type": "stream",
          "text": [
            "[[[[-0.1  0.1  0.5]]]\n",
            "\n",
            "\n",
            " [[[ 1.   1.   0.5]]]]\n",
            "[0. 0. 0.]\n"
          ]
        }
      ],
      "source": [
        "custom_cnn_3.set_weights([custom_kernel_3,bias_3])\n",
        "weights = custom_cnn_3.get_weights()\n",
        "print(weights[0])\n",
        "print(weights[1])"
      ]
    },
    {
      "cell_type": "code",
      "execution_count": 38,
      "metadata": {
        "colab": {
          "base_uri": "https://localhost:8080/"
        },
        "id": "_mgUn7iN-XHF",
        "outputId": "4df8fbff-5222-4b4d-af99-9c5ccd1fa056"
      },
      "outputs": [
        {
          "name": "stdout",
          "output_type": "stream",
          "text": [
            "1/1 [==============================] - 0s 105ms/step\n"
          ]
        },
        {
          "data": {
            "text/plain": [
              "array([[[[1. , 1. , 0.5]],\n",
              "\n",
              "        [[1.9, 2.1, 1.5]],\n",
              "\n",
              "        [[2.8, 3.2, 2.5]],\n",
              "\n",
              "        [[3.7, 4.3, 3.5]],\n",
              "\n",
              "        [[4.6, 5.4, 4.5]],\n",
              "\n",
              "        [[5.5, 6.5, 5.5]],\n",
              "\n",
              "        [[6.4, 7.6, 6.5]],\n",
              "\n",
              "        [[7.3, 8.7, 7.5]],\n",
              "\n",
              "        [[8.2, 9.8, 8.5]]]], dtype=float32)"
            ]
          },
          "execution_count": 38,
          "metadata": {},
          "output_type": "execute_result"
        }
      ],
      "source": [
        "y_3kernel_no_p = custom_cnn_3.predict(X_train)\n",
        "y_3kernel_no_p"
      ]
    },
    {
      "attachments": {},
      "cell_type": "markdown",
      "metadata": {
        "id": "vGfZ9NR_-ui4"
      },
      "source": [
        "# 3 Filters with pooling"
      ]
    },
    {
      "cell_type": "code",
      "execution_count": 39,
      "metadata": {
        "id": "WiIM2tUr-ui5"
      },
      "outputs": [],
      "source": [
        "def build_model_CNN_3():\n",
        "  # input array shape for the network:\n",
        "  input_shape = X_train.shape[1],X_train.shape[2],X_train.shape[3]\n",
        "  #Here we will use Sequential API like we did in MLP\n",
        "  model = models.Sequential([\n",
        "  # Now we will introduce the layers. We will start with the convolution layer:\n",
        "  Conv2D(3,(2,1),(1,1),padding='valid',activation=\"linear\",input_shape=input_shape),\n",
        "  #Adding the pooling layer:\n",
        "  MaxPooling2D((2,1),padding='valid'),\n",
        "  ])  \n",
        "  model.compile(optimizer='Adam',loss = \"binary_crossentropy\", metrics=[\"accuracy\"]) \n",
        "  return model"
      ]
    },
    {
      "cell_type": "code",
      "execution_count": 40,
      "metadata": {
        "colab": {
          "base_uri": "https://localhost:8080/"
        },
        "id": "-L0llsPV-ui5",
        "outputId": "cbd9ab8d-dee9-49a5-df1e-e6713b02dd1e"
      },
      "outputs": [
        {
          "name": "stdout",
          "output_type": "stream",
          "text": [
            "Model: \"sequential_8\"\n",
            "_________________________________________________________________\n",
            " Layer (type)                Output Shape              Param #   \n",
            "=================================================================\n",
            " conv2d_8 (Conv2D)           (None, 9, 1, 3)           9         \n",
            "                                                                 \n",
            " max_pooling2d (MaxPooling2D  (None, 4, 1, 3)          0         \n",
            " )                                                               \n",
            "                                                                 \n",
            "=================================================================\n",
            "Total params: 9\n",
            "Trainable params: 9\n",
            "Non-trainable params: 0\n",
            "_________________________________________________________________\n"
          ]
        }
      ],
      "source": [
        "custom_cnn_3 = build_model_CNN_3()\n",
        "custom_cnn_3.summary()"
      ]
    },
    {
      "cell_type": "code",
      "execution_count": 41,
      "metadata": {
        "colab": {
          "base_uri": "https://localhost:8080/"
        },
        "id": "OLopPTgi-ui6",
        "outputId": "78a4a931-eb99-4bc0-88cc-6e7fb575151b"
      },
      "outputs": [
        {
          "name": "stdout",
          "output_type": "stream",
          "text": [
            "[[[[-0.3257659   0.13477999 -0.48170936]]]\n",
            "\n",
            "\n",
            " [[[-0.08136684 -0.02073312 -0.83403826]]]]\n",
            "[0. 0. 0.]\n"
          ]
        }
      ],
      "source": [
        "weights = custom_cnn_3.get_weights()\n",
        "print(weights[0])\n",
        "print(weights[1])"
      ]
    },
    {
      "cell_type": "code",
      "execution_count": 42,
      "metadata": {
        "colab": {
          "base_uri": "https://localhost:8080/"
        },
        "id": "f8g4VJcx-ui7",
        "outputId": "e4c6ba26-5e26-4507-ef65-132040fdb19e"
      },
      "outputs": [
        {
          "data": {
            "text/plain": [
              "(2, 1, 1, 3)"
            ]
          },
          "execution_count": 42,
          "metadata": {},
          "output_type": "execute_result"
        }
      ],
      "source": [
        "#kernel shape: how kernel data is saved. we will use our own for debugging.\n",
        "weights[0].shape"
      ]
    },
    {
      "cell_type": "code",
      "execution_count": 43,
      "metadata": {
        "id": "0U-oayUR-ui7"
      },
      "outputs": [],
      "source": [
        "custom_kernel_3 = np.array([[[[ -0.1, 0.1 , 0.5 ]]],\\\n",
        "                            [[[  1  , 1   , 0.5 ]]]])\n",
        "bias_3 = np.array([0,0,0])"
      ]
    },
    {
      "cell_type": "code",
      "execution_count": 44,
      "metadata": {
        "colab": {
          "base_uri": "https://localhost:8080/"
        },
        "id": "4G8SeelW-ui7",
        "outputId": "b3573f73-eebe-45e5-b73e-992d4d40648e"
      },
      "outputs": [
        {
          "name": "stdout",
          "output_type": "stream",
          "text": [
            "[[[[-0.1  0.1  0.5]]]\n",
            "\n",
            "\n",
            " [[[ 1.   1.   0.5]]]]\n",
            "[0. 0. 0.]\n"
          ]
        }
      ],
      "source": [
        "custom_cnn_3.set_weights([custom_kernel_3,bias_3])\n",
        "weights = custom_cnn_3.get_weights()\n",
        "print(weights[0])\n",
        "print(weights[1])"
      ]
    },
    {
      "cell_type": "code",
      "execution_count": 45,
      "metadata": {
        "colab": {
          "base_uri": "https://localhost:8080/"
        },
        "id": "8mM-li3l-ui8",
        "outputId": "f8e62167-e3ab-493a-8d12-55c508cbc459"
      },
      "outputs": [
        {
          "name": "stdout",
          "output_type": "stream",
          "text": [
            "1/1 [==============================] - 0s 84ms/step\n"
          ]
        },
        {
          "data": {
            "text/plain": [
              "array([[[[1.9, 2.1, 1.5]],\n",
              "\n",
              "        [[3.7, 4.3, 3.5]],\n",
              "\n",
              "        [[5.5, 6.5, 5.5]],\n",
              "\n",
              "        [[7.3, 8.7, 7.5]]]], dtype=float32)"
            ]
          },
          "execution_count": 45,
          "metadata": {},
          "output_type": "execute_result"
        }
      ],
      "source": [
        "y_3kernel_w_p = custom_cnn_3.predict(X_train)\n",
        "y_3kernel_w_p"
      ]
    },
    {
      "cell_type": "code",
      "execution_count": 46,
      "metadata": {
        "colab": {
          "base_uri": "https://localhost:8080/"
        },
        "id": "WsrxSwBC_dPR",
        "outputId": "343a6669-42a5-4424-89fc-9ebbd59dff15"
      },
      "outputs": [
        {
          "data": {
            "text/plain": [
              "array([[[[1. , 1. , 0.5]],\n",
              "\n",
              "        [[1.9, 2.1, 1.5]],\n",
              "\n",
              "        [[2.8, 3.2, 2.5]],\n",
              "\n",
              "        [[3.7, 4.3, 3.5]],\n",
              "\n",
              "        [[4.6, 5.4, 4.5]],\n",
              "\n",
              "        [[5.5, 6.5, 5.5]],\n",
              "\n",
              "        [[6.4, 7.6, 6.5]],\n",
              "\n",
              "        [[7.3, 8.7, 7.5]],\n",
              "\n",
              "        [[8.2, 9.8, 8.5]]]], dtype=float32)"
            ]
          },
          "execution_count": 46,
          "metadata": {},
          "output_type": "execute_result"
        }
      ],
      "source": [
        "y_3kernel_no_p"
      ]
    },
    {
      "attachments": {},
      "cell_type": "markdown",
      "metadata": {
        "id": "_5sLO5-EAec-"
      },
      "source": [
        "# 3 Filters with average pooling"
      ]
    },
    {
      "cell_type": "code",
      "execution_count": 47,
      "metadata": {
        "id": "VyTv-mIeAec_"
      },
      "outputs": [],
      "source": [
        "def build_model_CNN_3():\n",
        "  # input array shape for the network:\n",
        "  input_shape = X_train.shape[1],X_train.shape[2],X_train.shape[3]\n",
        "  #Here we will use Sequential API like we did in MLP\n",
        "  model = models.Sequential([\n",
        "  # Now we will introduce the layers. We will start with the convolution layer:\n",
        "  Conv2D(3,(2,1),(1,1),padding='valid',activation=\"linear\",input_shape=input_shape),\n",
        "  #Adding the pooling layer:\n",
        "  AveragePooling2D((2,1),padding='valid'),\n",
        "  ])  \n",
        "  model.compile(optimizer='Adam',loss = \"binary_crossentropy\", metrics=[\"accuracy\"]) \n",
        "  return model"
      ]
    },
    {
      "cell_type": "code",
      "execution_count": 48,
      "metadata": {
        "colab": {
          "base_uri": "https://localhost:8080/"
        },
        "id": "26PY_JYkAec_",
        "outputId": "38d8d3e0-7d3e-4923-a841-9fc24421da1f"
      },
      "outputs": [
        {
          "name": "stdout",
          "output_type": "stream",
          "text": [
            "Model: \"sequential_9\"\n",
            "_________________________________________________________________\n",
            " Layer (type)                Output Shape              Param #   \n",
            "=================================================================\n",
            " conv2d_9 (Conv2D)           (None, 9, 1, 3)           9         \n",
            "                                                                 \n",
            " average_pooling2d (AverageP  (None, 4, 1, 3)          0         \n",
            " ooling2D)                                                       \n",
            "                                                                 \n",
            "=================================================================\n",
            "Total params: 9\n",
            "Trainable params: 9\n",
            "Non-trainable params: 0\n",
            "_________________________________________________________________\n"
          ]
        }
      ],
      "source": [
        "custom_cnn_3 = build_model_CNN_3()\n",
        "custom_cnn_3.summary()"
      ]
    },
    {
      "cell_type": "code",
      "execution_count": 49,
      "metadata": {
        "colab": {
          "base_uri": "https://localhost:8080/"
        },
        "id": "bysx8w57AedA",
        "outputId": "61167344-c45c-4f1d-c667-0ef457e825fd"
      },
      "outputs": [
        {
          "name": "stdout",
          "output_type": "stream",
          "text": [
            "[[[[-0.423885   -0.2591138   0.0437749 ]]]\n",
            "\n",
            "\n",
            " [[[-0.5341716  -0.04940325 -0.37193984]]]]\n",
            "[0. 0. 0.]\n"
          ]
        }
      ],
      "source": [
        "weights = custom_cnn_3.get_weights()\n",
        "print(weights[0])\n",
        "print(weights[1])"
      ]
    },
    {
      "cell_type": "code",
      "execution_count": 50,
      "metadata": {
        "colab": {
          "base_uri": "https://localhost:8080/"
        },
        "id": "sskcPBmfAedB",
        "outputId": "495d04bd-f988-4425-cb76-d0ee2151971f"
      },
      "outputs": [
        {
          "data": {
            "text/plain": [
              "(2, 1, 1, 3)"
            ]
          },
          "execution_count": 50,
          "metadata": {},
          "output_type": "execute_result"
        }
      ],
      "source": [
        "#kernel shape: how kernel data is saved. we will use our own for debugging.\n",
        "weights[0].shape"
      ]
    },
    {
      "cell_type": "code",
      "execution_count": 51,
      "metadata": {
        "id": "eaLpFeqMAedB"
      },
      "outputs": [],
      "source": [
        "custom_kernel_3 = np.array([[[[ -0.1, 0.1 , 0.5 ]]],\\\n",
        "                            [[[  1  , 1   , 0.5 ]]]])\n",
        "bias_3 = np.array([0,0,0])"
      ]
    },
    {
      "cell_type": "code",
      "execution_count": 52,
      "metadata": {
        "colab": {
          "base_uri": "https://localhost:8080/"
        },
        "id": "sM476SYKAedB",
        "outputId": "9f313bcb-2fda-421f-d0a8-828b416070a9"
      },
      "outputs": [
        {
          "name": "stdout",
          "output_type": "stream",
          "text": [
            "[[[[-0.1  0.1  0.5]]]\n",
            "\n",
            "\n",
            " [[[ 1.   1.   0.5]]]]\n",
            "[0. 0. 0.]\n"
          ]
        }
      ],
      "source": [
        "custom_cnn_3.set_weights([custom_kernel_3,bias_3])\n",
        "weights = custom_cnn_3.get_weights()\n",
        "print(weights[0])\n",
        "print(weights[1])"
      ]
    },
    {
      "cell_type": "code",
      "execution_count": 53,
      "metadata": {
        "colab": {
          "base_uri": "https://localhost:8080/"
        },
        "id": "ffecIftVAedC",
        "outputId": "7509f83b-d5ad-4f06-b11e-128d647d528f"
      },
      "outputs": [
        {
          "name": "stdout",
          "output_type": "stream",
          "text": [
            "WARNING:tensorflow:5 out of the last 5 calls to <function Model.make_predict_function.<locals>.predict_function at 0x0000028AC9462290> triggered tf.function retracing. Tracing is expensive and the excessive number of tracings could be due to (1) creating @tf.function repeatedly in a loop, (2) passing tensors with different shapes, (3) passing Python objects instead of tensors. For (1), please define your @tf.function outside of the loop. For (2), @tf.function has reduce_retracing=True option that can avoid unnecessary retracing. For (3), please refer to https://www.tensorflow.org/guide/function#controlling_retracing and https://www.tensorflow.org/api_docs/python/tf/function for  more details.\n",
            "1/1 [==============================] - 0s 82ms/step\n"
          ]
        },
        {
          "data": {
            "text/plain": [
              "array([[[[1.45     , 1.55     , 1.       ]],\n",
              "\n",
              "        [[3.25     , 3.75     , 3.       ]],\n",
              "\n",
              "        [[5.05     , 5.95     , 5.       ]],\n",
              "\n",
              "        [[6.8500004, 8.15     , 7.       ]]]], dtype=float32)"
            ]
          },
          "execution_count": 53,
          "metadata": {},
          "output_type": "execute_result"
        }
      ],
      "source": [
        "y_3kernel_w_ap = custom_cnn_3.predict(X_train)\n",
        "y_3kernel_w_ap"
      ]
    },
    {
      "cell_type": "code",
      "execution_count": 54,
      "metadata": {
        "colab": {
          "base_uri": "https://localhost:8080/"
        },
        "id": "Dt8g6YxTAedC",
        "outputId": "c0aa32f6-f362-4efc-b3f5-705d9856a506"
      },
      "outputs": [
        {
          "data": {
            "text/plain": [
              "array([[[[1. , 1. , 0.5]],\n",
              "\n",
              "        [[1.9, 2.1, 1.5]],\n",
              "\n",
              "        [[2.8, 3.2, 2.5]],\n",
              "\n",
              "        [[3.7, 4.3, 3.5]],\n",
              "\n",
              "        [[4.6, 5.4, 4.5]],\n",
              "\n",
              "        [[5.5, 6.5, 5.5]],\n",
              "\n",
              "        [[6.4, 7.6, 6.5]],\n",
              "\n",
              "        [[7.3, 8.7, 7.5]],\n",
              "\n",
              "        [[8.2, 9.8, 8.5]]]], dtype=float32)"
            ]
          },
          "execution_count": 54,
          "metadata": {},
          "output_type": "execute_result"
        }
      ],
      "source": [
        "y_3kernel_no_p"
      ]
    },
    {
      "attachments": {},
      "cell_type": "markdown",
      "metadata": {
        "id": "_dwPGZU6IzXB"
      },
      "source": [
        "# 2 Input channels"
      ]
    },
    {
      "cell_type": "code",
      "execution_count": 55,
      "metadata": {
        "colab": {
          "base_uri": "https://localhost:8080/"
        },
        "id": "wXcnSJM0JZSB",
        "outputId": "47f684e1-486f-43d3-a94f-2c8413ae0051"
      },
      "outputs": [
        {
          "data": {
            "text/plain": [
              "(1, 10, 1, 2)"
            ]
          },
          "execution_count": 55,
          "metadata": {},
          "output_type": "execute_result"
        }
      ],
      "source": [
        "#Creating a dummy numpy array for testing kernels\n",
        "X_train = np.array([[ [[_, 9-_]] for _ in range(10)]])\n",
        "X_train.shape"
      ]
    },
    {
      "cell_type": "code",
      "execution_count": 56,
      "metadata": {
        "colab": {
          "base_uri": "https://localhost:8080/"
        },
        "id": "z4kX2po1JZSE",
        "outputId": "112685dc-edd8-4317-e008-4f8c26630488"
      },
      "outputs": [
        {
          "name": "stdout",
          "output_type": "stream",
          "text": [
            "[[[[0 9]]\n",
            "\n",
            "  [[1 8]]\n",
            "\n",
            "  [[2 7]]\n",
            "\n",
            "  [[3 6]]\n",
            "\n",
            "  [[4 5]]\n",
            "\n",
            "  [[5 4]]\n",
            "\n",
            "  [[6 3]]\n",
            "\n",
            "  [[7 2]]\n",
            "\n",
            "  [[8 1]]\n",
            "\n",
            "  [[9 0]]]]\n"
          ]
        }
      ],
      "source": [
        "print(X_train)"
      ]
    },
    {
      "cell_type": "code",
      "execution_count": 57,
      "metadata": {
        "id": "l5FCNnvFJDPd"
      },
      "outputs": [],
      "source": [
        "def build_model_CNN_2():\n",
        "  # input array shape for the network:\n",
        "  input_shape = X_train.shape[1],X_train.shape[2],X_train.shape[3]\n",
        "  #Here we will use Sequential API like we did in MLP\n",
        "  model = models.Sequential([\n",
        "  # Now we will introduce the layers. We will start with the convolution layer:\n",
        "  Conv2D(1,(2,1),(1,1),padding='valid',activation=\"linear\",input_shape=input_shape),\n",
        "  #Adding the pooling layer:\n",
        "  #MaxPooling2D((2,2),padding='same'),\n",
        "  ])  \n",
        "  model.compile(optimizer='Adam',loss = \"binary_crossentropy\", metrics=[\"accuracy\"]) \n",
        "  return model"
      ]
    },
    {
      "cell_type": "code",
      "execution_count": 58,
      "metadata": {
        "colab": {
          "base_uri": "https://localhost:8080/"
        },
        "id": "uncM_KzrJDPf",
        "outputId": "b1f7613f-c729-463f-a7e9-b4a0718a2515"
      },
      "outputs": [
        {
          "name": "stdout",
          "output_type": "stream",
          "text": [
            "Model: \"sequential_10\"\n",
            "_________________________________________________________________\n",
            " Layer (type)                Output Shape              Param #   \n",
            "=================================================================\n",
            " conv2d_10 (Conv2D)          (None, 9, 1, 1)           5         \n",
            "                                                                 \n",
            "=================================================================\n",
            "Total params: 5\n",
            "Trainable params: 5\n",
            "Non-trainable params: 0\n",
            "_________________________________________________________________\n"
          ]
        }
      ],
      "source": [
        "cnn_2 = build_model_CNN_2()\n",
        "cnn_2.summary()"
      ]
    },
    {
      "cell_type": "code",
      "execution_count": 59,
      "metadata": {
        "colab": {
          "base_uri": "https://localhost:8080/"
        },
        "id": "C_GyRICtJDPj",
        "outputId": "42627f8f-3dc2-43d8-d301-2a1a12553fe2"
      },
      "outputs": [
        {
          "name": "stdout",
          "output_type": "stream",
          "text": [
            "[[[[-0.5516615 ]\n",
            "   [-0.5993333 ]]]\n",
            "\n",
            "\n",
            " [[[-0.9321215 ]\n",
            "   [-0.15790772]]]]\n",
            "[0.]\n"
          ]
        }
      ],
      "source": [
        "weights = cnn_2.get_weights()\n",
        "print(weights[0])\n",
        "print(weights[1])"
      ]
    },
    {
      "cell_type": "code",
      "execution_count": 60,
      "metadata": {
        "colab": {
          "base_uri": "https://localhost:8080/"
        },
        "id": "cKLzvhw8JDPl",
        "outputId": "24440908-b9cc-4896-878f-92593ebe468f"
      },
      "outputs": [
        {
          "data": {
            "text/plain": [
              "array([[[[ 0.1],\n",
              "         [-0.1]]],\n",
              "\n",
              "\n",
              "       [[[ 1. ],\n",
              "         [-1. ]]]])"
            ]
          },
          "execution_count": 60,
          "metadata": {},
          "output_type": "execute_result"
        }
      ],
      "source": [
        "custom_kernel_2 = np.array([[[[0.1],[ -0.1 ]]],[[[1],[ -1]]]])\n",
        "custom_kernel_2"
      ]
    },
    {
      "cell_type": "code",
      "execution_count": 61,
      "metadata": {
        "id": "kcV7xQJfJDPn"
      },
      "outputs": [],
      "source": [
        "bias_2 = np.array([0.3])"
      ]
    },
    {
      "cell_type": "code",
      "execution_count": 62,
      "metadata": {
        "colab": {
          "base_uri": "https://localhost:8080/"
        },
        "id": "ZBDyR3hLJDPo",
        "outputId": "0091c0e9-a395-436a-d9aa-237f55324e39"
      },
      "outputs": [
        {
          "name": "stdout",
          "output_type": "stream",
          "text": [
            "Model: \"sequential_11\"\n",
            "_________________________________________________________________\n",
            " Layer (type)                Output Shape              Param #   \n",
            "=================================================================\n",
            " conv2d_11 (Conv2D)          (None, 9, 1, 1)           5         \n",
            "                                                                 \n",
            "=================================================================\n",
            "Total params: 5\n",
            "Trainable params: 5\n",
            "Non-trainable params: 0\n",
            "_________________________________________________________________\n"
          ]
        }
      ],
      "source": [
        "# Creating custom weight cnn:\n",
        "custom_cnn_2 = build_model_CNN_2()\n",
        "custom_cnn_2.summary()"
      ]
    },
    {
      "cell_type": "code",
      "execution_count": 63,
      "metadata": {
        "colab": {
          "base_uri": "https://localhost:8080/"
        },
        "id": "B474EROkJDPp",
        "outputId": "e73f549f-fa7e-4b78-bd99-606130d9684a"
      },
      "outputs": [
        {
          "name": "stdout",
          "output_type": "stream",
          "text": [
            "[[[[ 0.1]\n",
            "   [-0.1]]]\n",
            "\n",
            "\n",
            " [[[ 1. ]\n",
            "   [-1. ]]]]\n",
            "[0.3]\n"
          ]
        }
      ],
      "source": [
        "custom_cnn_2.set_weights([custom_kernel_2,bias_2])\n",
        "weights = custom_cnn_2.get_weights()\n",
        "print(weights[0])\n",
        "print(weights[1])"
      ]
    },
    {
      "attachments": {},
      "cell_type": "markdown",
      "metadata": {
        "id": "v0f_5sIVJDPr"
      },
      "source": [
        "## Conv. operation"
      ]
    },
    {
      "cell_type": "code",
      "execution_count": 64,
      "metadata": {
        "colab": {
          "base_uri": "https://localhost:8080/"
        },
        "id": "yqRs5nkBJDPv",
        "outputId": "5300b7fb-c1a5-459c-a14a-c184adb611d1"
      },
      "outputs": [
        {
          "name": "stdout",
          "output_type": "stream",
          "text": [
            "WARNING:tensorflow:6 out of the last 6 calls to <function Model.make_predict_function.<locals>.predict_function at 0x0000028AC9463B50> triggered tf.function retracing. Tracing is expensive and the excessive number of tracings could be due to (1) creating @tf.function repeatedly in a loop, (2) passing tensors with different shapes, (3) passing Python objects instead of tensors. For (1), please define your @tf.function outside of the loop. For (2), @tf.function has reduce_retracing=True option that can avoid unnecessary retracing. For (3), please refer to https://www.tensorflow.org/guide/function#controlling_retracing and https://www.tensorflow.org/api_docs/python/tf/function for  more details.\n",
            "1/1 [==============================] - 0s 111ms/step\n"
          ]
        },
        {
          "data": {
            "text/plain": [
              "array([[[[-7.6       ]],\n",
              "\n",
              "        [[-5.3999996 ]],\n",
              "\n",
              "        [[-3.2       ]],\n",
              "\n",
              "        [[-0.99999994]],\n",
              "\n",
              "        [[ 1.2       ]],\n",
              "\n",
              "        [[ 3.3999999 ]],\n",
              "\n",
              "        [[ 5.6000004 ]],\n",
              "\n",
              "        [[ 7.8       ]],\n",
              "\n",
              "        [[10.        ]]]], dtype=float32)"
            ]
          },
          "execution_count": 64,
          "metadata": {},
          "output_type": "execute_result"
        }
      ],
      "source": [
        "y_calculated_2 = custom_cnn_2.predict(X_train)\n",
        "y_calculated_2"
      ]
    },
    {
      "attachments": {},
      "cell_type": "markdown",
      "metadata": {},
      "source": [
        "    Then, let's create a random input image of shape (1, 10, 10, 3), where 1 denotes the batch size (number of images), 10x10 is the image size (height x width), and 3 stands for the number of channels (RGB):"
      ]
    },
    {
      "cell_type": "code",
      "execution_count": 66,
      "metadata": {},
      "outputs": [],
      "source": [
        "input_image = np.random.rand(1, 10, 10, 3)"
      ]
    },
    {
      "attachments": {},
      "cell_type": "markdown",
      "metadata": {},
      "source": [
        "    Now, let's define a model. First, we will use a convolution layer with kernel size of (3, 3), stride of (1,1), valid padding and linear activation function:"
      ]
    },
    {
      "cell_type": "code",
      "execution_count": 67,
      "metadata": {},
      "outputs": [],
      "source": [
        "model = Sequential()\n",
        "model.add(Conv2D(1, (3,3), strides=(1,1), padding='valid', activation='linear', input_shape=(10,10,3)))"
      ]
    },
    {
      "attachments": {},
      "cell_type": "markdown",
      "metadata": {},
      "source": [
        "    Conv2D(1, (3,3), strides=(1,1), padding='valid', activation='linear', input_shape=(10,10,3)) creates a convolution layer. The arguments are:\n",
        "\n",
        "    1: Number of filters in the convolution.\n",
        "\n",
        "    (3, 3): Size of the kernel that is used for the convolution.\n",
        "\n",
        "    strides=(1, 1): Stride of the convolution along the height and width.\n",
        "\n",
        "    padding='valid': No padding is applied.\n",
        "\n",
        "    activation='linear': Linear activation function is used.\n",
        "\n",
        "    To add padding, we can use the ZeroPadding2D layer. Let's add a zero-padding layer that adds 1 pixel of padding to the height and width of the image:"
      ]
    },
    {
      "cell_type": "code",
      "execution_count": 68,
      "metadata": {},
      "outputs": [],
      "source": [
        "model.add(ZeroPadding2D(padding=(1,1)))"
      ]
    },
    {
      "attachments": {},
      "cell_type": "markdown",
      "metadata": {},
      "source": [
        "    Now, let's add a max pooling layer with pool size of (2, 2):"
      ]
    },
    {
      "cell_type": "code",
      "execution_count": 69,
      "metadata": {},
      "outputs": [],
      "source": [
        "model.add(MaxPooling2D(pool_size=(2, 2)))"
      ]
    },
    {
      "attachments": {},
      "cell_type": "markdown",
      "metadata": {},
      "source": [
        "    MaxPooling2D(pool_size=(2, 2)) creates a max pooling layer. Here, (2, 2) is the size of the max pooling window.\n",
        "\n",
        "    Similarly, let's add an average pooling layer:"
      ]
    },
    {
      "cell_type": "code",
      "execution_count": null,
      "metadata": {},
      "outputs": [],
      "source": [
        "model.add(AveragePooling2D(pool_size=(2, 2)))"
      ]
    },
    {
      "attachments": {},
      "cell_type": "markdown",
      "metadata": {},
      "source": [
        "    To see the model summary:"
      ]
    },
    {
      "cell_type": "code",
      "execution_count": 70,
      "metadata": {},
      "outputs": [
        {
          "name": "stdout",
          "output_type": "stream",
          "text": [
            "Model: \"sequential_12\"\n",
            "_________________________________________________________________\n",
            " Layer (type)                Output Shape              Param #   \n",
            "=================================================================\n",
            " conv2d_12 (Conv2D)          (None, 8, 8, 1)           28        \n",
            "                                                                 \n",
            " zero_padding2d (ZeroPadding  (None, 10, 10, 1)        0         \n",
            " 2D)                                                             \n",
            "                                                                 \n",
            " max_pooling2d_1 (MaxPooling  (None, 5, 5, 1)          0         \n",
            " 2D)                                                             \n",
            "                                                                 \n",
            "=================================================================\n",
            "Total params: 28\n",
            "Trainable params: 28\n",
            "Non-trainable params: 0\n",
            "_________________________________________________________________\n"
          ]
        }
      ],
      "source": [
        "model.summary()"
      ]
    },
    {
      "cell_type": "code",
      "execution_count": 71,
      "metadata": {},
      "outputs": [
        {
          "name": "stdout",
          "output_type": "stream",
          "text": [
            "1/1 [==============================] - 0s 140ms/step\n"
          ]
        }
      ],
      "source": [
        "output_image = model.predict(input_image)"
      ]
    },
    {
      "attachments": {},
      "cell_type": "markdown",
      "metadata": {},
      "source": [
        "    This is a very basic example that demonstrates the use of different types of layers in a CNN. By changing the parameters of the layers or by commenting out some of the layers, you can observe the changes in the output shape and better understand what each layer does.\n",
        "\n",
        "    To understand kernels, consider this: in the convolution operation, kernels are like small windows that slide over the input image and perform element-wise multiplication and summation to generate a new feature map. Kernels are essentially the feature detectors of the network, and they learn to detect different features (e.g., edges, corners, textures) from the input.\n",
        "\n",
        "    Padding is the process of adding extra pixels around the input image. This can be done to preserve the spatial dimensions of the input through the convolution operation, especially when using larger kernel sizes."
      ]
    }
  ],
  "metadata": {
    "colab": {
      "provenance": [],
      "toc_visible": true
    },
    "kernelspec": {
      "display_name": "Python 3",
      "name": "python3"
    },
    "language_info": {
      "codemirror_mode": {
        "name": "ipython",
        "version": 3
      },
      "file_extension": ".py",
      "mimetype": "text/x-python",
      "name": "python",
      "nbconvert_exporter": "python",
      "pygments_lexer": "ipython3",
      "version": "3.10.9"
    }
  },
  "nbformat": 4,
  "nbformat_minor": 0
}
